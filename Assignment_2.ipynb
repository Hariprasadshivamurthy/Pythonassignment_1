{
 "cells": [
  {
   "cell_type": "markdown",
   "id": "9626c524",
   "metadata": {},
   "source": [
    "# Assignment 2"
   ]
  },
  {
   "cell_type": "markdown",
   "id": "10db173a",
   "metadata": {},
   "source": [
    "1.What are the two values of the Boolean data type? How do you write them?\n",
    "\n",
    "True and False are the two values of the Boolean data type."
   ]
  },
  {
   "cell_type": "code",
   "execution_count": 1,
   "id": "210b8893",
   "metadata": {},
   "outputs": [
    {
     "name": "stdout",
     "output_type": "stream",
     "text": [
      "True\n",
      "False\n",
      "<class 'bool'>\n",
      "<class 'bool'>\n"
     ]
    }
   ],
   "source": [
    "my_variable = True\n",
    "another_variable = False\n",
    "\n",
    "print(my_variable)\n",
    "print(another_variable)\n",
    "print(type(my_variable))\n",
    "print(type(another_variable))"
   ]
  },
  {
   "cell_type": "code",
   "execution_count": null,
   "id": "800f68a1",
   "metadata": {},
   "outputs": [],
   "source": []
  },
  {
   "cell_type": "markdown",
   "id": "4f54c916",
   "metadata": {},
   "source": [
    "2. What are the three different types of Boolean operators?\n",
    "\n",
    "   The three different types of Boolean operators are:-\n",
    "        1)AND Operator\n",
    "        2)OR Operator\n",
    "        3)NOT Operator"
   ]
  },
  {
   "cell_type": "markdown",
   "id": "09a861fc",
   "metadata": {},
   "source": [
    "1)AND Operator\n",
    "* AND Operator Returns True if both the operands are True.Otherwise, it returns false."
   ]
  },
  {
   "cell_type": "code",
   "execution_count": 2,
   "id": "e016c8bd",
   "metadata": {},
   "outputs": [
    {
     "name": "stdout",
     "output_type": "stream",
     "text": [
      "True\n",
      "False\n"
     ]
    }
   ],
   "source": [
    "x = True\n",
    "y = True\n",
    "result = x and y\n",
    "print(result)\n",
    "\n",
    "x = True\n",
    "y = False\n",
    "result = x and y\n",
    "print(result)\n"
   ]
  },
  {
   "cell_type": "markdown",
   "id": "2093ad90",
   "metadata": {},
   "source": [
    "2)OR Operator\n",
    "* OR operator returns true if at least one of its operands is true. If both operands are false, it returns false."
   ]
  },
  {
   "cell_type": "code",
   "execution_count": 3,
   "id": "38593f57",
   "metadata": {},
   "outputs": [
    {
     "name": "stdout",
     "output_type": "stream",
     "text": [
      "True\n",
      "False\n"
     ]
    }
   ],
   "source": [
    "x = True\n",
    "y = False\n",
    "result = x or y \n",
    "print(result)\n",
    "\n",
    "x = False\n",
    "y = False\n",
    "result = x or y \n",
    "print(result)"
   ]
  },
  {
   "cell_type": "markdown",
   "id": "68a9d059",
   "metadata": {},
   "source": [
    "3)NOT Operator\n",
    "* NOT operator returns the opposite boolen value of the operand."
   ]
  },
  {
   "cell_type": "code",
   "execution_count": 4,
   "id": "37c31e36",
   "metadata": {},
   "outputs": [
    {
     "name": "stdout",
     "output_type": "stream",
     "text": [
      "False\n"
     ]
    }
   ],
   "source": [
    "x = True\n",
    "result = not x \n",
    "print(result)"
   ]
  },
  {
   "cell_type": "code",
   "execution_count": null,
   "id": "36ab51da",
   "metadata": {},
   "outputs": [],
   "source": []
  },
  {
   "cell_type": "markdown",
   "id": "72a8295f",
   "metadata": {},
   "source": [
    "3. Make a list of each Boolean operator's truth tables (i.e. every possible combination of Boolean values for the operator and what it evaluate )."
   ]
  },
  {
   "cell_type": "markdown",
   "id": "b7fb68f0",
   "metadata": {},
   "source": [
    "The truth tables for each Boolean operator \n",
    "* AND Operator\n",
    "* Operand 1____Operand 2____Result\n",
    "* True_________True_________True\n",
    "* True_________False________False\n",
    "* False________True________False\n",
    "* False________False_______False"
   ]
  },
  {
   "cell_type": "code",
   "execution_count": 5,
   "id": "534ac551",
   "metadata": {},
   "outputs": [
    {
     "name": "stdout",
     "output_type": "stream",
     "text": [
      "True\n",
      "False\n",
      "False\n",
      "False\n"
     ]
    }
   ],
   "source": [
    "# AND Operator Truth Table\n",
    "print(True and True)               # True\n",
    "print(True and False)              # False\n",
    "print(False and True)              # False\n",
    "print(False and False)             # False"
   ]
  },
  {
   "cell_type": "markdown",
   "id": "68bf805f",
   "metadata": {},
   "source": [
    "* OR Operator\n",
    "* Operand 1____Operand 2____Result\n",
    "* True_________True_________True\n",
    "* True_________False________True\n",
    "* False________True_________True\n",
    "* False________False________False"
   ]
  },
  {
   "cell_type": "code",
   "execution_count": 6,
   "id": "180a565d",
   "metadata": {},
   "outputs": [
    {
     "name": "stdout",
     "output_type": "stream",
     "text": [
      "True\n",
      "True\n",
      "True\n",
      "False\n"
     ]
    }
   ],
   "source": [
    "# OR Operator Truth Table\n",
    "print(True or True)                  # True\n",
    "print(True or False)                 # True\n",
    "print(False or True)                 # True\n",
    "print(False or False)                # False"
   ]
  },
  {
   "cell_type": "markdown",
   "id": "ba7b62c2",
   "metadata": {},
   "source": [
    "* NOT Operator\n",
    "* Operand____Result\n",
    "* True_________False\n",
    "* False________True"
   ]
  },
  {
   "cell_type": "code",
   "execution_count": 7,
   "id": "760d6090",
   "metadata": {},
   "outputs": [
    {
     "name": "stdout",
     "output_type": "stream",
     "text": [
      "False\n",
      "True\n"
     ]
    }
   ],
   "source": [
    "# NOT Operator Truth Table\n",
    "print(not True)                       # False\n",
    "print(not False)                      # True"
   ]
  },
  {
   "cell_type": "code",
   "execution_count": null,
   "id": "180e8e31",
   "metadata": {},
   "outputs": [],
   "source": []
  },
  {
   "cell_type": "markdown",
   "id": "5709ea73",
   "metadata": {},
   "source": [
    "4. What are the values of the following expressions?\n",
    "* (5 > 4) and (3 == 5)                     = False\n",
    "* not (5 > 4)                              = False\n",
    "* (5 > 4) or (3 == 5)                      = False\n",
    "* not ((5 > 4) or (3 == 5))                = True\n",
    "* (True and True) and (True == False)      = False\n",
    "* (not False) or (not True)                = True"
   ]
  },
  {
   "cell_type": "code",
   "execution_count": 8,
   "id": "8111055f",
   "metadata": {},
   "outputs": [
    {
     "data": {
      "text/plain": [
       "False"
      ]
     },
     "execution_count": 8,
     "metadata": {},
     "output_type": "execute_result"
    }
   ],
   "source": [
    "(5 > 4) and (3 == 5)"
   ]
  },
  {
   "cell_type": "code",
   "execution_count": 9,
   "id": "cca920ea",
   "metadata": {},
   "outputs": [
    {
     "data": {
      "text/plain": [
       "False"
      ]
     },
     "execution_count": 9,
     "metadata": {},
     "output_type": "execute_result"
    }
   ],
   "source": [
    "not (5 > 4)"
   ]
  },
  {
   "cell_type": "code",
   "execution_count": 10,
   "id": "59f42455",
   "metadata": {},
   "outputs": [
    {
     "data": {
      "text/plain": [
       "True"
      ]
     },
     "execution_count": 10,
     "metadata": {},
     "output_type": "execute_result"
    }
   ],
   "source": [
    "(5 > 4) or (3 == 5)"
   ]
  },
  {
   "cell_type": "code",
   "execution_count": 11,
   "id": "8b779e8f",
   "metadata": {},
   "outputs": [
    {
     "data": {
      "text/plain": [
       "False"
      ]
     },
     "execution_count": 11,
     "metadata": {},
     "output_type": "execute_result"
    }
   ],
   "source": [
    "not ((5 > 4) or (3 == 5))"
   ]
  },
  {
   "cell_type": "code",
   "execution_count": 12,
   "id": "616130d2",
   "metadata": {},
   "outputs": [
    {
     "data": {
      "text/plain": [
       "False"
      ]
     },
     "execution_count": 12,
     "metadata": {},
     "output_type": "execute_result"
    }
   ],
   "source": [
    "(True and True) and (True == False)"
   ]
  },
  {
   "cell_type": "code",
   "execution_count": 13,
   "id": "1a608077",
   "metadata": {},
   "outputs": [
    {
     "data": {
      "text/plain": [
       "True"
      ]
     },
     "execution_count": 13,
     "metadata": {},
     "output_type": "execute_result"
    }
   ],
   "source": [
    "(not False) or (not True)"
   ]
  },
  {
   "cell_type": "code",
   "execution_count": null,
   "id": "0db7cc8d",
   "metadata": {},
   "outputs": [],
   "source": []
  },
  {
   "cell_type": "markdown",
   "id": "5f8ca8fe",
   "metadata": {},
   "source": [
    "5. What are the six comparison operators?"
   ]
  },
  {
   "cell_type": "markdown",
   "id": "1f9cfbd7",
   "metadata": {},
   "source": [
    "* Greater than(>):\n",
    "* Less than(<):\n",
    "* Equal to (==):\n",
    "* Not equal to (!=):\n",
    "* Greater than or equal to(>=):\n",
    "* Less than or equal to(<=):"
   ]
  },
  {
   "cell_type": "code",
   "execution_count": 14,
   "id": "94674209",
   "metadata": {},
   "outputs": [
    {
     "name": "stdout",
     "output_type": "stream",
     "text": [
      "False\n",
      "True\n",
      "False\n",
      "True\n",
      "False\n",
      "True\n"
     ]
    }
   ],
   "source": [
    "a = 10\n",
    "b = 20\n",
    "\n",
    "print(a == b)  # Equal to\n",
    "print(a != b)  # Not equal to\n",
    "print(a > b)   # Greater than\n",
    "print(a < b)   # Less than\n",
    "print(a >= b)  # Greater than or equal to\n",
    "print(a <= b)  # Less than or equal to"
   ]
  },
  {
   "cell_type": "code",
   "execution_count": null,
   "id": "4d8d7c2f",
   "metadata": {},
   "outputs": [],
   "source": []
  },
  {
   "cell_type": "markdown",
   "id": "479f9203",
   "metadata": {},
   "source": [
    "6. How do you tell the difference between the equal to and assignment operators?Describe a condition and when you would use one."
   ]
  },
  {
   "cell_type": "markdown",
   "id": "474265ca",
   "metadata": {},
   "source": [
    "equal to (=):\n",
    "* It is an assignment operator.\n",
    "* It is used for assigning the value to a variable.\n",
    "\n",
    "assignment operators (==):\n",
    "* It is a relational or comparison operator.\n",
    "* It is used for comparing two values. It returns 1 if both the values are equal otherwise returns 0."
   ]
  },
  {
   "cell_type": "code",
   "execution_count": 15,
   "id": "e8fe58ef",
   "metadata": {},
   "outputs": [
    {
     "name": "stdout",
     "output_type": "stream",
     "text": [
      "x is not equal to y\n"
     ]
    }
   ],
   "source": [
    "# Equal To Operator\n",
    "x = 500\n",
    "y = 1000\n",
    "if x == y:\n",
    "    print(\"x is equal to y\")\n",
    "else:\n",
    "    print(\"x is not equal to y\")"
   ]
  },
  {
   "cell_type": "markdown",
   "id": "67202ecf",
   "metadata": {},
   "source": [
    "the equal to operator (==) to compare the values of x and y to determine if they are equal. they are not equal (500 is not equal to 1000), the output will be \"x is not equal to y.\""
   ]
  },
  {
   "cell_type": "code",
   "execution_count": 16,
   "id": "c8acfdf6",
   "metadata": {},
   "outputs": [
    {
     "name": "stdout",
     "output_type": "stream",
     "text": [
      "x: 500\n",
      "y: 500\n"
     ]
    }
   ],
   "source": [
    "# Assignment Operator\n",
    "x = 500                                                 # Assigns the value 5 to the variable x\n",
    "y = x                                                   # Assigns the value of x to the variable y\n",
    "print(\"x:\", x)  \n",
    "print(\"y:\", y)  "
   ]
  },
  {
   "cell_type": "markdown",
   "id": "0b0760ab",
   "metadata": {},
   "source": [
    "the assignment operator (=) to assign the value 500 to the variable x. Then, we assign the value of x to the variable y, resulting in both x and y holding the value 500."
   ]
  },
  {
   "cell_type": "code",
   "execution_count": null,
   "id": "e5a747f9",
   "metadata": {},
   "outputs": [],
   "source": []
  },
  {
   "cell_type": "markdown",
   "id": "5643d633",
   "metadata": {},
   "source": [
    "7. Identify the three blocks in this code:\n",
    "spam = 0\n",
    "if spam == 10:\n",
    "print('eggs')\n",
    "if spam > 5:\n",
    "print('bacon')\n",
    "else:\n",
    "print('ham')\n",
    "print('spam')\n",
    "print('spam')"
   ]
  },
  {
   "cell_type": "code",
   "execution_count": 17,
   "id": "44fb6f3c",
   "metadata": {},
   "outputs": [
    {
     "name": "stdout",
     "output_type": "stream",
     "text": [
      "ham\n",
      "spam\n",
      "spam\n"
     ]
    }
   ],
   "source": [
    "spam = 0\n",
    "if spam == 10:\n",
    "    print('eggs')\n",
    "if spam > 5:\n",
    "    print('bacon')\n",
    "else:\n",
    "    print('ham')\n",
    "print('spam')\n",
    "print('spam')"
   ]
  },
  {
   "cell_type": "markdown",
   "id": "2e121c33",
   "metadata": {},
   "source": [
    "Block 1:"
   ]
  },
  {
   "cell_type": "code",
   "execution_count": 18,
   "id": "554fcdb3",
   "metadata": {},
   "outputs": [],
   "source": [
    "spam = 0\n",
    "if spam == 10:\n",
    "    print('eggs')"
   ]
  },
  {
   "cell_type": "markdown",
   "id": "38bdc337",
   "metadata": {},
   "source": [
    "Block 2:"
   ]
  },
  {
   "cell_type": "code",
   "execution_count": 19,
   "id": "be7133d6",
   "metadata": {},
   "outputs": [
    {
     "name": "stdout",
     "output_type": "stream",
     "text": [
      "ham\n"
     ]
    }
   ],
   "source": [
    "if spam > 5:\n",
    "    print('bacon')\n",
    "else:\n",
    "    print('ham')"
   ]
  },
  {
   "cell_type": "markdown",
   "id": "09478d32",
   "metadata": {},
   "source": [
    "Block 3:"
   ]
  },
  {
   "cell_type": "code",
   "execution_count": 20,
   "id": "1dbe1bf0",
   "metadata": {},
   "outputs": [
    {
     "name": "stdout",
     "output_type": "stream",
     "text": [
      "spam\n",
      "spam\n"
     ]
    }
   ],
   "source": [
    "print('spam')\n",
    "print('spam')"
   ]
  },
  {
   "cell_type": "code",
   "execution_count": null,
   "id": "5a991438",
   "metadata": {},
   "outputs": [],
   "source": []
  },
  {
   "cell_type": "markdown",
   "id": "a38374ef",
   "metadata": {},
   "source": [
    "8. Write code that prints Hello if 1 is stored in spam, prints Howdy if 2 is stored in spam, and prints Greetings! if anything else is stored in spam."
   ]
  },
  {
   "cell_type": "code",
   "execution_count": 21,
   "id": "083da76d",
   "metadata": {},
   "outputs": [
    {
     "name": "stdout",
     "output_type": "stream",
     "text": [
      "Hello\n"
     ]
    }
   ],
   "source": [
    "#type 1\n",
    "spam = 1\n",
    "if spam ==1:\n",
    "    print(\"Hello\")\n",
    "elif spam ==2:\n",
    "    print(\"Howdy\")\n",
    "else:\n",
    "    print(\"Greeting!\")"
   ]
  },
  {
   "cell_type": "code",
   "execution_count": 22,
   "id": "a18edc0e",
   "metadata": {},
   "outputs": [
    {
     "name": "stdout",
     "output_type": "stream",
     "text": [
      "Enter the number (1/2):2\n",
      "Howdy\n"
     ]
    }
   ],
   "source": [
    "# type 2\n",
    "choice = input(\"Enter the number (1/2):\")\n",
    "\n",
    "if choice == '1':\n",
    "    print('Hello')\n",
    "elif choice == '2':\n",
    "    print('Howdy')\n",
    "else:\n",
    "    print('Greetings!')"
   ]
  },
  {
   "cell_type": "code",
   "execution_count": null,
   "id": "18e43a01",
   "metadata": {},
   "outputs": [],
   "source": []
  },
  {
   "cell_type": "markdown",
   "id": "9fff8b14",
   "metadata": {},
   "source": [
    "9.If your programme is stuck in an endless loop, what keys you’ll press?\n",
    "* Ctrl + C on Windows\n",
    "* Ctrl + Z on Unix\n",
    "* Press the Interrupt button in the toolbar above the notebook interface."
   ]
  },
  {
   "cell_type": "code",
   "execution_count": null,
   "id": "1f2695ff",
   "metadata": {},
   "outputs": [],
   "source": []
  },
  {
   "cell_type": "markdown",
   "id": "2f35af59",
   "metadata": {},
   "source": [
    "10. How can you tell the difference between break and continue?"
   ]
  },
  {
   "cell_type": "markdown",
   "id": "2cd6ecca",
   "metadata": {},
   "source": [
    "* break is used to exit a loop prematurely.\n",
    "* continue is used to skip the current iteration of a loop and move to the next iteration."
   ]
  },
  {
   "cell_type": "code",
   "execution_count": 30,
   "id": "119b76ed",
   "metadata": {},
   "outputs": [
    {
     "name": "stdout",
     "output_type": "stream",
     "text": [
      "0\n",
      "1\n",
      "2\n",
      "3\n",
      "4\n"
     ]
    }
   ],
   "source": [
    "#break Statement\n",
    "for i in range(15):\n",
    "    if i == 5:\n",
    "        break\n",
    "    print(i)"
   ]
  },
  {
   "cell_type": "code",
   "execution_count": 31,
   "id": "9f9672c1",
   "metadata": {},
   "outputs": [
    {
     "name": "stdout",
     "output_type": "stream",
     "text": [
      "0\n",
      "1\n",
      "2\n",
      "3\n",
      "4\n",
      "6\n",
      "7\n",
      "8\n",
      "9\n",
      "10\n",
      "11\n",
      "12\n",
      "13\n",
      "14\n"
     ]
    }
   ],
   "source": [
    "#continue statement\n",
    "for i in range(15):\n",
    "    if i == 5:\n",
    "        continue\n",
    "    print(i)"
   ]
  },
  {
   "cell_type": "markdown",
   "id": "2a636523",
   "metadata": {},
   "source": [
    "11. In a for loop, what is the difference between range(10), range(0, 10), and range(0, 10, 1)?"
   ]
  },
  {
   "cell_type": "markdown",
   "id": "7fa7e328",
   "metadata": {},
   "source": [
    "range(10)\n",
    "* The range function specifies only the stop value and to generates a sequence of integers starting from 0.in example stop is 10."
   ]
  },
  {
   "cell_type": "code",
   "execution_count": 32,
   "id": "861acf8c",
   "metadata": {},
   "outputs": [
    {
     "name": "stdout",
     "output_type": "stream",
     "text": [
      "0\n",
      "1\n",
      "2\n",
      "3\n",
      "4\n",
      "5\n",
      "6\n",
      "7\n",
      "8\n",
      "9\n"
     ]
    }
   ],
   "source": [
    "for i in range(10):\n",
    "    print(i)"
   ]
  },
  {
   "cell_type": "markdown",
   "id": "673e017f",
   "metadata": {},
   "source": [
    "range(0, 10)\n",
    "* the range function explicitly defines both the start and stop values. start is 0 and stop is 10 but it will not include 10."
   ]
  },
  {
   "cell_type": "code",
   "execution_count": 33,
   "id": "a6460add",
   "metadata": {},
   "outputs": [
    {
     "name": "stdout",
     "output_type": "stream",
     "text": [
      "0\n",
      "1\n",
      "2\n",
      "3\n",
      "4\n",
      "5\n",
      "6\n",
      "7\n",
      "8\n",
      "9\n"
     ]
    }
   ],
   "source": [
    "for i in range(0, 10):\n",
    "    print(i)"
   ]
  },
  {
   "cell_type": "markdown",
   "id": "95a51707",
   "metadata": {},
   "source": [
    "range(0, 10, 1):\n",
    "* the range function also specifies the start, stop, and step values.start is 0 and stop is 10 but it will not include 10, 1 is step values."
   ]
  },
  {
   "cell_type": "code",
   "execution_count": 34,
   "id": "85b643b8",
   "metadata": {},
   "outputs": [
    {
     "name": "stdout",
     "output_type": "stream",
     "text": [
      "0\n",
      "1\n",
      "2\n",
      "3\n",
      "4\n",
      "5\n",
      "6\n",
      "7\n",
      "8\n",
      "9\n"
     ]
    }
   ],
   "source": [
    "for i in range(0, 10, 1):\n",
    "    print(i)"
   ]
  },
  {
   "cell_type": "code",
   "execution_count": null,
   "id": "703bfb05",
   "metadata": {},
   "outputs": [],
   "source": []
  },
  {
   "cell_type": "markdown",
   "id": "716551a0",
   "metadata": {},
   "source": [
    "12. Write a short program that prints the numbers 1 to 10 using a for loop. Then write an equivalent program that prints the numbers 1 to 10 using a while loop."
   ]
  },
  {
   "cell_type": "markdown",
   "id": "7c3f6484",
   "metadata": {},
   "source": [
    "For loop"
   ]
  },
  {
   "cell_type": "code",
   "execution_count": 35,
   "id": "e236b449",
   "metadata": {},
   "outputs": [
    {
     "name": "stdout",
     "output_type": "stream",
     "text": [
      "1\n",
      "2\n",
      "3\n",
      "4\n",
      "5\n",
      "6\n",
      "7\n",
      "8\n",
      "9\n",
      "10\n"
     ]
    }
   ],
   "source": [
    "for i in range(1, 11):\n",
    "    print(i)"
   ]
  },
  {
   "cell_type": "markdown",
   "id": "d0fc763d",
   "metadata": {},
   "source": [
    "while loop"
   ]
  },
  {
   "cell_type": "code",
   "execution_count": 36,
   "id": "0fb1cc95",
   "metadata": {},
   "outputs": [
    {
     "name": "stdout",
     "output_type": "stream",
     "text": [
      "1\n",
      "2\n",
      "3\n",
      "4\n",
      "5\n",
      "6\n",
      "7\n",
      "8\n",
      "9\n",
      "10\n"
     ]
    }
   ],
   "source": [
    "i = 1\n",
    "while i <= 10:\n",
    "    print(i)\n",
    "    i += 1"
   ]
  },
  {
   "cell_type": "code",
   "execution_count": null,
   "id": "47dcf6a5",
   "metadata": {},
   "outputs": [],
   "source": []
  },
  {
   "cell_type": "markdown",
   "id": "380fd67f",
   "metadata": {},
   "source": [
    "13. If you had a function named bacon() inside a module named spam, how would you call it after importing spam?"
   ]
  },
  {
   "cell_type": "markdown",
   "id": "f2fe8cec",
   "metadata": {},
   "source": [
    "import spam\n",
    "\n",
    "spam.bacon()"
   ]
  },
  {
   "cell_type": "code",
   "execution_count": null,
   "id": "435ce91e",
   "metadata": {},
   "outputs": [],
   "source": []
  }
 ],
 "metadata": {
  "kernelspec": {
   "display_name": "Python 3 (ipykernel)",
   "language": "python",
   "name": "python3"
  },
  "language_info": {
   "codemirror_mode": {
    "name": "ipython",
    "version": 3
   },
   "file_extension": ".py",
   "mimetype": "text/x-python",
   "name": "python",
   "nbconvert_exporter": "python",
   "pygments_lexer": "ipython3",
   "version": "3.10.9"
  }
 },
 "nbformat": 4,
 "nbformat_minor": 5
}
