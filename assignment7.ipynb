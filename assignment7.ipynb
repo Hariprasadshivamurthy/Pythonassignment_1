{
 "cells": [
  {
   "cell_type": "markdown",
   "id": "cd2b805f-b987-42e9-9023-353dd5e5ac62",
   "metadata": {},
   "source": [
    "Q.1. Create two int type variables, apply addition, subtraction, division and multiplications and store the results in variables. Then print the data in the following format by calling the variables:\n",
    "First variable is __ & second variable is __.\n",
    "\n",
    "Addition: __ + __ = __\n",
    "\n",
    "Subtraction: __ - __ = __\n",
    "\n",
    "Multiplication: __ * __ = __\n",
    "\n",
    "Division: __ / __ = __"
   ]
  },
  {
   "cell_type": "code",
   "execution_count": 2,
   "id": "6e8a1301-4d5e-48c9-ade4-8e68c14a5911",
   "metadata": {},
   "outputs": [
    {
     "name": "stdout",
     "output_type": "stream",
     "text": [
      "First variable is:  4 & second variable is:  10\n",
      "Addition:  4 + 10 = 14\n",
      "Subtraction:  4 - 10 = -6\n",
      "Multiplication:  4 * 10 = 40\n",
      "Division:  4 / 10 = 0.4\n"
     ]
    }
   ],
   "source": [
    "a = 4 \n",
    "b = 10\n",
    "\n",
    "add = a + b\n",
    "sub = a - b\n",
    "mul = a * b\n",
    "div = a / b\n",
    "\n",
    "print(\"First variable is: \", a , \"&\", \"second variable is: \", b)\n",
    "print(\"Addition: \", a , \"+\" , b , \"=\" , add)\n",
    "print(\"Subtraction: \", a , \"-\" , b , \"=\" , sub)\n",
    "print(\"Multiplication: \", a , \"*\" , b , \"=\" , mul)\n",
    "print(\"Division: \", a , \"/\" , b , \"=\" , div)"
   ]
  },
  {
   "cell_type": "markdown",
   "id": "3a2eeb8c-85da-40a4-a88e-5ffcefa3454c",
   "metadata": {},
   "source": [
    "Q.2. What is the difference between the following operators:"
   ]
  },
  {
   "cell_type": "markdown",
   "id": "1a1d5142-3ce4-40f0-95ac-a2368b7e4df0",
   "metadata": {},
   "source": [
    "(i) ‘/’ & ‘//’\n",
    "\n",
    "(ii) ‘**’ & ‘^’\n",
    "\n",
    "1] / operator performs normal division and returns a float result. The // operator, also known as the floor division operator, performs division and returns the integer quotient of the division, discarding any fractional part.\n",
    "\n",
    "2] ** is Exponential operator it raises left operand to the power of right operand whereas ^ is a bit-wise XOR operator which performs binary representation of the operands."
   ]
  },
  {
   "cell_type": "code",
   "execution_count": 5,
   "id": "155b0b20-7caf-4146-b783-47fa680a49ba",
   "metadata": {},
   "outputs": [
    {
     "name": "stdout",
     "output_type": "stream",
     "text": [
      "Result of division: 0.4\n",
      "Result of floor division: 0\n",
      "------------------------------\n",
      "Result of exponential:  1048576\n",
      "Result of bitwise XOR:  14\n"
     ]
    }
   ],
   "source": [
    "a = 4\n",
    "b = 10\n",
    "\n",
    "# Division \n",
    "result_division = a / b\n",
    "print(\"Result of division:\", result_division)\n",
    "\n",
    "#Floor Division\n",
    "result_floordivision = a // b\n",
    "print(\"Result of floor division:\", result_floordivision)\n",
    "\n",
    "print(\"-\"*30)\n",
    "\n",
    "# Exponential\n",
    "result_exponential = a ** b\n",
    "print(\"Result of exponential: \", result_exponential)\n",
    "\n",
    "# Bitwise XOR\n",
    "result_bitwiseXOR = a ^ b\n",
    "print(\"Result of bitwise XOR: \",result_bitwiseXOR)  "
   ]
  },
  {
   "cell_type": "markdown",
   "id": "d8a8dd72-0942-4f74-90ca-5838cc302e74",
   "metadata": {},
   "source": [
    "Q.3. List the logical operators."
   ]
  },
  {
   "cell_type": "markdown",
   "id": "d4c1cb4e-7a0f-4acf-9cee-bd9fe089d7ef",
   "metadata": {},
   "source": [
    "logical Operators are And, Or, Not\n",
    "\n",
    "1] And: This operator returns True if both operands are True; otherwise, it returns False.\n",
    "\n",
    "2] Or: The OR operator returns True if at least one of the operands is True; otherwise, it returns False.\n",
    "\n",
    "3] Not: It returns the negation of the operand. If the operand is True, it returns False, and if the operand is False, it returns True."
   ]
  },
  {
   "cell_type": "code",
   "execution_count": 8,
   "id": "4b95e15a-90ba-45f4-b0fb-edc871ed9cf8",
   "metadata": {},
   "outputs": [
    {
     "name": "stdout",
     "output_type": "stream",
     "text": [
      "False\n",
      "True\n",
      "False\n"
     ]
    }
   ],
   "source": [
    "a = True\n",
    "b = False\n",
    "\n",
    "#AND\n",
    "result1 = a and b\n",
    "print(result1)  \n",
    "\n",
    "#OR\n",
    "result2 = a or b\n",
    "print(result2)  \n",
    "\n",
    "#NOT\n",
    "result3 = not a\n",
    "print(result3)"
   ]
  },
  {
   "cell_type": "markdown",
   "id": "79a7f675-e902-4fc3-9215-1518440961e0",
   "metadata": {},
   "source": [
    "Q.4. Explain right shift operator and left shift operator with examples."
   ]
  },
  {
   "cell_type": "markdown",
   "id": "9dc84034-66a8-4be2-8159-e72f459d37d8",
   "metadata": {},
   "source": [
    "1] The right shift operator (>>) moves the bits of a number to the right by a specified number of positions."
   ]
  },
  {
   "cell_type": "code",
   "execution_count": 11,
   "id": "48fd7b37-18e1-4c0c-bc0b-254f4ca1c61c",
   "metadata": {},
   "outputs": [
    {
     "name": "stdout",
     "output_type": "stream",
     "text": [
      "4\n"
     ]
    }
   ],
   "source": [
    "n = 16\n",
    "shift = 2\n",
    "\n",
    "result = n >> shift\n",
    "print(result)  "
   ]
  },
  {
   "cell_type": "markdown",
   "id": "992fd52e-f505-472a-ad04-36cb0274ca11",
   "metadata": {},
   "source": [
    "2] The left shift operator (<<) moves the bits of a number to the left by a specified number of positions."
   ]
  },
  {
   "cell_type": "code",
   "execution_count": 13,
   "id": "f58fa074-31fb-4cce-b582-48791bf56b68",
   "metadata": {},
   "outputs": [
    {
     "name": "stdout",
     "output_type": "stream",
     "text": [
      "40\n"
     ]
    }
   ],
   "source": [
    "n = 10\n",
    "shift = 2\n",
    "\n",
    "result = n << shift\n",
    "print(result)  "
   ]
  },
  {
   "cell_type": "markdown",
   "id": "8c42f0ea-3fb6-492e-a83f-48b1b7a612c7",
   "metadata": {},
   "source": [
    "Q.5. Create a list containing int type data of length 15. Then write a code to check if 10 is present in the list or not."
   ]
  },
  {
   "cell_type": "code",
   "execution_count": 15,
   "id": "c9f5c554-38c2-48a9-a918-4d55bf7c531c",
   "metadata": {},
   "outputs": [
    {
     "data": {
      "text/plain": [
       "15"
      ]
     },
     "execution_count": 15,
     "metadata": {},
     "output_type": "execute_result"
    }
   ],
   "source": [
    "l = [1,2,3,4,5,6,7,8,9,10,11,12,13,14,15]\n",
    "len(l)"
   ]
  },
  {
   "cell_type": "code",
   "execution_count": 16,
   "id": "3e006eb5-2b28-408b-a774-a2df8fa0f2fd",
   "metadata": {},
   "outputs": [
    {
     "name": "stdout",
     "output_type": "stream",
     "text": [
      "Yes, 10 is present in the list\n"
     ]
    }
   ],
   "source": [
    "i = 10\n",
    "if i in l:\n",
    "    print(\"Yes, 10 is present in the list\")\n",
    "else:\n",
    "    print(\"Not present\")"
   ]
  },
  {
   "cell_type": "code",
   "execution_count": null,
   "id": "6d27d274-4bc6-4adc-a16c-940db446d54e",
   "metadata": {},
   "outputs": [],
   "source": []
  }
 ],
 "metadata": {
  "kernelspec": {
   "display_name": "Python 3 (ipykernel)",
   "language": "python",
   "name": "python3"
  },
  "language_info": {
   "codemirror_mode": {
    "name": "ipython",
    "version": 3
   },
   "file_extension": ".py",
   "mimetype": "text/x-python",
   "name": "python",
   "nbconvert_exporter": "python",
   "pygments_lexer": "ipython3",
   "version": "3.12.7"
  }
 },
 "nbformat": 4,
 "nbformat_minor": 5
}
