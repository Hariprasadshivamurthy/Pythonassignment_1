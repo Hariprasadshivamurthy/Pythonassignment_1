{
 "cells": [
  {
   "cell_type": "markdown",
   "id": "2cdd75e0",
   "metadata": {},
   "source": [
    "Assignment - 3"
   ]
  },
  {
   "cell_type": "markdown",
   "id": "5b904230",
   "metadata": {},
   "source": [
    "1.Why are functions advantageous to have in your programs?"
   ]
  },
  {
   "cell_type": "markdown",
   "id": "bfb995cb",
   "metadata": {},
   "source": [
    "Functions reduce the need for duplicate code. This makes programs shorter, easier to read, and easier to update."
   ]
  },
  {
   "cell_type": "markdown",
   "id": "d029a222",
   "metadata": {},
   "source": [
    "--------------------------------------------------------------------------------------------------------------------------------"
   ]
  },
  {
   "cell_type": "markdown",
   "id": "5dd25f46",
   "metadata": {},
   "source": [
    "2. When does the code in a function run: when it's specified or when it's called?"
   ]
  },
  {
   "cell_type": "markdown",
   "id": "88f16a15",
   "metadata": {},
   "source": [
    "The code in a function executes when the function is called, not when the function is defined."
   ]
  },
  {
   "cell_type": "markdown",
   "id": "f0335248",
   "metadata": {},
   "source": [
    "--------------------------------------------------------------------------------------------------------------------------------"
   ]
  },
  {
   "cell_type": "markdown",
   "id": "6fc30fec",
   "metadata": {},
   "source": [
    "3. What statement creates a function?"
   ]
  },
  {
   "cell_type": "markdown",
   "id": "991283cb",
   "metadata": {},
   "source": [
    "The def statement defines, i.e. creates a function."
   ]
  },
  {
   "cell_type": "markdown",
   "id": "f5837e3f",
   "metadata": {},
   "source": [
    "-------------------------------------------------------------------------------------------------------------------------------"
   ]
  },
  {
   "cell_type": "markdown",
   "id": "03bccdce",
   "metadata": {},
   "source": [
    "4. What is the difference between a function and a function call?"
   ]
  },
  {
   "cell_type": "markdown",
   "id": "e4b38883",
   "metadata": {},
   "source": [
    "Function"
   ]
  },
  {
   "cell_type": "markdown",
   "id": "82d9ed73",
   "metadata": {},
   "source": [
    "* A function consists of the def statement and the code in its def clause.\n",
    "* A function is a self-contained block of code that performs a specific task or a series of tasks. It encapsulates a set of       instructions that can be executed when the function is called. Functions are defined with a name, a set of optional          parameters, and a body that contains the code to be executed when the function is invoked."
   ]
  },
  {
   "cell_type": "code",
   "execution_count": 1,
   "id": "539bbd63",
   "metadata": {},
   "outputs": [],
   "source": [
    "def add_numbers(a, b):\n",
    "    result = a + b\n",
    "    return result"
   ]
  },
  {
   "cell_type": "markdown",
   "id": "31040ead",
   "metadata": {},
   "source": [
    "Function Call"
   ]
  },
  {
   "cell_type": "markdown",
   "id": "14fdf161",
   "metadata": {},
   "source": [
    "* A function call is what moves the program execution into the function, and the function call evaluates to the function's    return value.\n",
    "* A function call is an instruction that tells the program to execute the code within a specific function. When you call a function, the function's name along with any required arguments (values) for its parameters. The program transfers control to the function's code, executes the instructions inside the function, and may receive a return value if the function specifies one."
   ]
  },
  {
   "cell_type": "code",
   "execution_count": 2,
   "id": "32df6262",
   "metadata": {},
   "outputs": [],
   "source": [
    "result = add_numbers(5, 7)"
   ]
  },
  {
   "cell_type": "markdown",
   "id": "06923a8d",
   "metadata": {},
   "source": [
    "-------------------------------------------------------------------------------------------------------------------------------"
   ]
  },
  {
   "cell_type": "markdown",
   "id": "b8791370",
   "metadata": {},
   "source": [
    "5. How many global scopes are there in a Python program? How many local scopes?"
   ]
  },
  {
   "cell_type": "markdown",
   "id": "612011c1",
   "metadata": {},
   "source": [
    "There is one global scope, and a local scope is created whenever a function is called."
   ]
  },
  {
   "cell_type": "markdown",
   "id": "92f17108",
   "metadata": {},
   "source": [
    "-------------------------------------------------------------------------------------------------------------------------------"
   ]
  },
  {
   "cell_type": "code",
   "execution_count": 3,
   "id": "02b82e4c",
   "metadata": {},
   "outputs": [
    {
     "name": "stdout",
     "output_type": "stream",
     "text": [
      "Object `returns` not found.\n"
     ]
    }
   ],
   "source": [
    "6. What happens to variables in a local scope when the function call returns?"
   ]
  },
  {
   "cell_type": "markdown",
   "id": "831b4d7b",
   "metadata": {},
   "source": [
    "When a function returns, the local scope is destroyed, and all the variables in it are forgotten."
   ]
  },
  {
   "cell_type": "code",
   "execution_count": 4,
   "id": "9f7a3fc9",
   "metadata": {},
   "outputs": [
    {
     "name": "stdout",
     "output_type": "stream",
     "text": [
      "42\n"
     ]
    }
   ],
   "source": [
    "def example_function():\n",
    "    local_var = 42\n",
    "    return local_var\n",
    "\n",
    "result = example_function()\n",
    "print(result)"
   ]
  },
  {
   "cell_type": "markdown",
   "id": "b8ffce66",
   "metadata": {},
   "source": [
    "--------------------------------------------------------------------------------------------------------------------------------"
   ]
  },
  {
   "cell_type": "markdown",
   "id": "51357af4",
   "metadata": {},
   "source": [
    "7. What is the concept of a return value? Is it possible to have a return value in an expression?"
   ]
  },
  {
   "cell_type": "markdown",
   "id": "d651eaba",
   "metadata": {},
   "source": [
    "A return value is the value that a function call evaluates to. Like any value, a return value can be used as part of an expression."
   ]
  },
  {
   "cell_type": "markdown",
   "id": "17939ba1",
   "metadata": {},
   "source": [
    "-------------------------------------------------------------------------------------------------------------------------------"
   ]
  },
  {
   "cell_type": "markdown",
   "id": "83668d87",
   "metadata": {},
   "source": [
    "8. If a function does not have a return statement, what is the return value of a call to that function?"
   ]
  },
  {
   "cell_type": "markdown",
   "id": "b07e5275",
   "metadata": {},
   "source": [
    "If there is no return statement for a function, its return value is None."
   ]
  },
  {
   "cell_type": "markdown",
   "id": "00f613fb",
   "metadata": {},
   "source": [
    "-------------------------------------------------------------------------------------------------------------------------------"
   ]
  },
  {
   "cell_type": "markdown",
   "id": "54cf710c",
   "metadata": {},
   "source": [
    "9. How do you make a function variable refer to the global variable?"
   ]
  },
  {
   "cell_type": "markdown",
   "id": "d519c945",
   "metadata": {},
   "source": [
    "* A global statement will force a variable in a function to refer to the global variable.\n",
    "* to access or modify a global variable from within a function, need to explicitly indicate thatreferring to the global variable, rather than creating a new local variable with the same name."
   ]
  },
  {
   "cell_type": "code",
   "execution_count": 5,
   "id": "b665dd6d",
   "metadata": {},
   "outputs": [
    {
     "name": "stdout",
     "output_type": "stream",
     "text": [
      "Before: 10\n",
      "After: 15\n"
     ]
    }
   ],
   "source": [
    "global_var = 10 \n",
    "\n",
    "def modify_global():\n",
    "    global global_var \n",
    "    global_var += 5    \n",
    "\n",
    "print(\"Before:\", global_var)\n",
    "modify_global()\n",
    "print(\"After:\", global_var)"
   ]
  },
  {
   "cell_type": "markdown",
   "id": "47673241",
   "metadata": {},
   "source": [
    "-------------------------------------------------------------------------------------------------------------------------------"
   ]
  },
  {
   "cell_type": "markdown",
   "id": "8c3270c7",
   "metadata": {},
   "source": [
    "10. What is the data type of None?"
   ]
  },
  {
   "cell_type": "markdown",
   "id": "ec5f1985",
   "metadata": {},
   "source": [
    "The data type of None is NoneType."
   ]
  },
  {
   "cell_type": "markdown",
   "id": "165f0c44",
   "metadata": {},
   "source": [
    "-------------------------------------------------------------------------------------------------------------------------------"
   ]
  },
  {
   "cell_type": "markdown",
   "id": "c3a41951",
   "metadata": {},
   "source": [
    "11. What does the sentence import areallyourpetsnamederic do?"
   ]
  },
  {
   "cell_type": "markdown",
   "id": "12402404",
   "metadata": {},
   "source": [
    "That import statement imports a module named areallyourpetsnamederic."
   ]
  },
  {
   "cell_type": "markdown",
   "id": "016df3f6",
   "metadata": {},
   "source": [
    "-------------------------------------------------------------------------------------------------------------------------------"
   ]
  },
  {
   "cell_type": "markdown",
   "id": "b64e7469",
   "metadata": {},
   "source": [
    "12. If you had a bacon() feature in a spam module, what would you call it after importing spam?"
   ]
  },
  {
   "cell_type": "markdown",
   "id": "9215884a",
   "metadata": {},
   "source": [
    "This function can be called with spam.bacon()."
   ]
  },
  {
   "cell_type": "markdown",
   "id": "82541b1a",
   "metadata": {},
   "source": [
    "-------------------------------------------------------------------------------------------------------------------------------"
   ]
  },
  {
   "cell_type": "markdown",
   "id": "a484b6f7",
   "metadata": {},
   "source": [
    "13. What can you do to save a programme from crashing if it encounters an error?"
   ]
  },
  {
   "cell_type": "markdown",
   "id": "02e2f11c",
   "metadata": {},
   "source": [
    "Place the line of code that might cause an error in a try clause."
   ]
  },
  {
   "cell_type": "markdown",
   "id": "1f916194",
   "metadata": {},
   "source": [
    "-------------------------------------------------------------------------------------------------------------------------------"
   ]
  },
  {
   "cell_type": "markdown",
   "id": "b0598962",
   "metadata": {},
   "source": [
    "14. What is the purpose of the try clause? What is the purpose of the except clause?"
   ]
  },
  {
   "cell_type": "markdown",
   "id": "21b99d84",
   "metadata": {},
   "source": [
    "* The code that could potentially cause an error goes in the try clause.\n",
    "* The code that executes if an error happens goes in the except clause."
   ]
  }
 ],
 "metadata": {
  "kernelspec": {
   "display_name": "Python 3 (ipykernel)",
   "language": "python",
   "name": "python3"
  },
  "language_info": {
   "codemirror_mode": {
    "name": "ipython",
    "version": 3
   },
   "file_extension": ".py",
   "mimetype": "text/x-python",
   "name": "python",
   "nbconvert_exporter": "python",
   "pygments_lexer": "ipython3",
   "version": "3.10.9"
  }
 },
 "nbformat": 4,
 "nbformat_minor": 5
}
