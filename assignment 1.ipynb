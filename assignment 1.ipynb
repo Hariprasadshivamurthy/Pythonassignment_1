{
 "cells": [
  {
   "cell_type": "markdown",
   "id": "1f2a1178",
   "metadata": {},
   "source": [
    "# Assignment - 1"
   ]
  },
  {
   "cell_type": "markdown",
   "id": "f2f00585",
   "metadata": {},
   "source": [
    "1. In the below elements which of them are values or an expression? eg:- values can be\n",
    "integer or string and expressions will be mathematical operators."
   ]
  },
  {
   "cell_type": "markdown",
   "id": "2d57e078",
   "metadata": {},
   "source": [
    "1)  ( * )       =  Expression      (Mathematical Operator)\n",
    "2) 'hello'      =  Values          (String)\n",
    "3) -87.8        =  Values          (Float)\n",
    "4)  (-)         =  Expression      (Mathematical Operator)\n",
    "5) (/)          =  Expression      (Mathematical Operator)\n",
    "6) (+)          =  Expression      (Mathematical Operator)\n",
    "7) 6            =  Values          (Integer)"
   ]
  },
  {
   "cell_type": "code",
   "execution_count": null,
   "id": "c0775c59",
   "metadata": {},
   "outputs": [],
   "source": []
  },
  {
   "cell_type": "markdown",
   "id": "fb2dde7f",
   "metadata": {},
   "source": [
    "2. What is the difference between string and variable?"
   ]
  },
  {
   "cell_type": "markdown",
   "id": "d2a5c7b2",
   "metadata": {},
   "source": [
    "String : A string in python are a data type used to represent a sequence of character data. They are created by enclosing either single quotes ('') or double quotes (\"\")."
   ]
  },
  {
   "cell_type": "code",
   "execution_count": 1,
   "id": "e22df811",
   "metadata": {},
   "outputs": [],
   "source": [
    "x = \"Hari\"      # \"Hari\" is string"
   ]
  },
  {
   "cell_type": "markdown",
   "id": "d886efcb",
   "metadata": {},
   "source": [
    "Variable : A variable is a named location used to store data in memory.They provide a way to refer to values by a name or identifier. Variables can hold various types of data, including strings, numbers, lists, and assign values to variables using the assignment operator (=)."
   ]
  },
  {
   "cell_type": "code",
   "execution_count": 2,
   "id": "04b30fb2",
   "metadata": {},
   "outputs": [],
   "source": [
    "name = \"Hari\"   #name variable hold the values \"Hari\".\n",
    "age  = 25       #age variable hold the values 25."
   ]
  },
  {
   "cell_type": "code",
   "execution_count": null,
   "id": "123539ea",
   "metadata": {},
   "outputs": [],
   "source": []
  },
  {
   "cell_type": "markdown",
   "id": "d10667e7",
   "metadata": {},
   "source": [
    "3. Describe three different data types."
   ]
  },
  {
   "cell_type": "markdown",
   "id": "36435ff3",
   "metadata": {},
   "source": [
    "Integer :  Integer data type represents are whole number, without any decimal points."
   ]
  },
  {
   "cell_type": "code",
   "execution_count": 3,
   "id": "1f807b07",
   "metadata": {},
   "outputs": [
    {
     "name": "stdout",
     "output_type": "stream",
     "text": [
      "105\n",
      "<class 'int'>\n"
     ]
    }
   ],
   "source": [
    "X = 105\n",
    "print(X)\n",
    "print(type(X))"
   ]
  },
  {
   "cell_type": "markdown",
   "id": "b017f9ce",
   "metadata": {},
   "source": [
    "Float :  Float data type represents real number and re written with a decimal point."
   ]
  },
  {
   "cell_type": "code",
   "execution_count": 4,
   "id": "b626690d",
   "metadata": {},
   "outputs": [
    {
     "name": "stdout",
     "output_type": "stream",
     "text": [
      "105.55\n",
      "<class 'float'>\n"
     ]
    }
   ],
   "source": [
    "X = 105.55\n",
    "print(X)\n",
    "print(type(X))"
   ]
  },
  {
   "cell_type": "markdown",
   "id": "c4a76a5e",
   "metadata": {},
   "source": [
    "String : A string in python are a data type used to represent a sequence of character data. They are created by enclosing either single quotes ('') or double quotes (\"\")."
   ]
  },
  {
   "cell_type": "code",
   "execution_count": 5,
   "id": "05f579f4",
   "metadata": {},
   "outputs": [
    {
     "name": "stdout",
     "output_type": "stream",
     "text": [
      "Hari\n",
      "<class 'str'>\n"
     ]
    }
   ],
   "source": [
    "name = \"Hari\"\n",
    "print(name)\n",
    "print(type(name))"
   ]
  },
  {
   "cell_type": "markdown",
   "id": "16fcf9c1",
   "metadata": {},
   "source": [
    "List : \n",
    " * List in python is an ordered collection of items.\n",
    " * they are mutable and Heterogeneous elements."
   ]
  },
  {
   "cell_type": "code",
   "execution_count": 6,
   "id": "e34f4e60",
   "metadata": {},
   "outputs": [
    {
     "name": "stdout",
     "output_type": "stream",
     "text": [
      "['Horse', 'Rabbit', 'Deer']\n",
      "<class 'list'>\n"
     ]
    }
   ],
   "source": [
    "animal = [\"Horse\", \"Rabbit\", \"Deer\"]\n",
    "print(animal)\n",
    "print(type(animal))"
   ]
  },
  {
   "cell_type": "markdown",
   "id": "81ff22ff",
   "metadata": {},
   "source": [
    "Tuple: \n",
    " * Tuple in python is an ordered collection of items.\n",
    " * they are immutable and Heterogeneous elements."
   ]
  },
  {
   "cell_type": "code",
   "execution_count": 7,
   "id": "e1984850",
   "metadata": {},
   "outputs": [
    {
     "name": "stdout",
     "output_type": "stream",
     "text": [
      "('Bengaluru', 'Mumbai', 'Hyderabad')\n",
      "<class 'tuple'>\n"
     ]
    }
   ],
   "source": [
    "places = (\"Bengaluru\", \"Mumbai\", \"Hyderabad\")\n",
    "print(places)\n",
    "print(type(places))"
   ]
  },
  {
   "cell_type": "markdown",
   "id": "0e0a8fa2",
   "metadata": {},
   "source": [
    "Dictionary: \n",
    " * Dictionary in python is an unordered collection of items.\n",
    " * Each item stored in a dictionaries has a key-value pairs and Heterogeneous elements."
   ]
  },
  {
   "cell_type": "code",
   "execution_count": 8,
   "id": "5b8454a5",
   "metadata": {},
   "outputs": [
    {
     "name": "stdout",
     "output_type": "stream",
     "text": [
      "{'Country': 'India', 'State': 'Karnataka', 'City': 'Bengaluru'}\n",
      "<class 'dict'>\n"
     ]
    }
   ],
   "source": [
    "my_dict = {\"Country\":\"India\", \"State\":\"Karnataka\", \"City\":\"Bengaluru\"}\n",
    "print(my_dict)\n",
    "print(type(my_dict))"
   ]
  },
  {
   "cell_type": "markdown",
   "id": "3dabf45d",
   "metadata": {},
   "source": [
    "Set : A Set is an unordered collection of unique elements."
   ]
  },
  {
   "cell_type": "code",
   "execution_count": 9,
   "id": "b26940c5",
   "metadata": {},
   "outputs": [
    {
     "name": "stdout",
     "output_type": "stream",
     "text": [
      "{'Maharashtra', 'Karnataka', 'Telangana'}\n",
      "<class 'set'>\n"
     ]
    }
   ],
   "source": [
    "State_name = {\"Karnataka\", \"Maharashtra\", \"Telangana\"}\n",
    "print(State_name)\n",
    "print(type(State_name))"
   ]
  },
  {
   "cell_type": "code",
   "execution_count": null,
   "id": "cd152825",
   "metadata": {},
   "outputs": [],
   "source": []
  },
  {
   "cell_type": "markdown",
   "id": "bea30654",
   "metadata": {},
   "source": [
    "5. This assignment statements, like spam = 10. What is the difference between an\n",
    "expression and a statement?"
   ]
  },
  {
   "cell_type": "code",
   "execution_count": 10,
   "id": "8565c6c0",
   "metadata": {},
   "outputs": [],
   "source": [
    "spam = 10 "
   ]
  },
  {
   "cell_type": "markdown",
   "id": "ce0792e0",
   "metadata": {},
   "source": [
    "* spam is assignment statement\n",
    "* 10 is assigns the value"
   ]
  },
  {
   "cell_type": "markdown",
   "id": "47c43148",
   "metadata": {},
   "source": [
    "Expression : An expression is something that gives a value, and can be printed out. it is a combination of Arithmetic Operators,Boolean and Variables. any values is an expression ."
   ]
  },
  {
   "cell_type": "code",
   "execution_count": 11,
   "id": "c8b78569",
   "metadata": {},
   "outputs": [
    {
     "name": "stdout",
     "output_type": "stream",
     "text": [
      "8\n"
     ]
    }
   ],
   "source": [
    "x = 5+3  # 5+3 is expression\n",
    "print(x)"
   ]
  },
  {
   "cell_type": "markdown",
   "id": "8ec55d78",
   "metadata": {},
   "source": [
    "Statement :  A single line of code is known as a statement."
   ]
  },
  {
   "cell_type": "code",
   "execution_count": 12,
   "id": "a6a5a00c",
   "metadata": {},
   "outputs": [
    {
     "name": "stdout",
     "output_type": "stream",
     "text": [
      "0\n"
     ]
    }
   ],
   "source": [
    "# assignment statement\n",
    "count = 0\n",
    "# print statement\n",
    "print(count)"
   ]
  },
  {
   "cell_type": "code",
   "execution_count": null,
   "id": "843c7b9a",
   "metadata": {},
   "outputs": [],
   "source": []
  },
  {
   "cell_type": "markdown",
   "id": "ae35bf5e",
   "metadata": {},
   "source": [
    "6. After running the following code, what does the variable bacon contain?\n",
    "bacon = 22\n",
    "bacon + 1"
   ]
  },
  {
   "cell_type": "code",
   "execution_count": 13,
   "id": "96adc401",
   "metadata": {},
   "outputs": [
    {
     "data": {
      "text/plain": [
       "23"
      ]
     },
     "execution_count": 13,
     "metadata": {},
     "output_type": "execute_result"
    }
   ],
   "source": [
    "bacon = 22\n",
    "bacon+1"
   ]
  },
  {
   "cell_type": "markdown",
   "id": "b72b3500",
   "metadata": {},
   "source": [
    " variable bacon contain 22."
   ]
  },
  {
   "cell_type": "code",
   "execution_count": null,
   "id": "0d81f1ca",
   "metadata": {},
   "outputs": [],
   "source": []
  },
  {
   "cell_type": "markdown",
   "id": "d6c990e5",
   "metadata": {},
   "source": [
    "7. What should the values of the following two terms be?\n",
    "\n",
    "'spam' + 'spamspam' \n",
    " output = 'spamspamspam'"
   ]
  },
  {
   "cell_type": "code",
   "execution_count": 14,
   "id": "09352f86",
   "metadata": {},
   "outputs": [
    {
     "data": {
      "text/plain": [
       "'spamspamspam'"
      ]
     },
     "execution_count": 14,
     "metadata": {},
     "output_type": "execute_result"
    }
   ],
   "source": [
    "'spam' + 'spamspam'"
   ]
  },
  {
   "cell_type": "markdown",
   "id": "b9cece8f",
   "metadata": {},
   "source": [
    "'spam' * 3\n",
    " output = 'spamspamspam'"
   ]
  },
  {
   "cell_type": "code",
   "execution_count": 15,
   "id": "1c504963",
   "metadata": {},
   "outputs": [
    {
     "data": {
      "text/plain": [
       "'spamspamspam'"
      ]
     },
     "execution_count": 15,
     "metadata": {},
     "output_type": "execute_result"
    }
   ],
   "source": [
    "'spam' * 3"
   ]
  },
  {
   "cell_type": "code",
   "execution_count": null,
   "id": "c1407856",
   "metadata": {},
   "outputs": [],
   "source": []
  },
  {
   "cell_type": "markdown",
   "id": "165e3fdb",
   "metadata": {},
   "source": [
    "8. Why is eggs a valid variable name while 100 is invalid?"
   ]
  },
  {
   "cell_type": "markdown",
   "id": "62a72b2d",
   "metadata": {},
   "source": [
    "* eggs is  a identifier and  is a name used to identify a variable, function, class, module, or other object.\n",
    "* 100 is a number and identifier  start with a letter(a-z,A-Z)or an (_)underscore. not with number.so 100 is invalid."
   ]
  },
  {
   "cell_type": "code",
   "execution_count": null,
   "id": "958873ba",
   "metadata": {},
   "outputs": [],
   "source": []
  },
  {
   "cell_type": "markdown",
   "id": "117d6f7b",
   "metadata": {},
   "source": [
    "9. What three functions can be used to get the integer, floating-point number, or string\n",
    "version of a value?"
   ]
  },
  {
   "cell_type": "markdown",
   "id": "971e6d2f",
   "metadata": {},
   "source": [
    "# Integer"
   ]
  },
  {
   "cell_type": "markdown",
   "id": "0b2db4d6",
   "metadata": {},
   "source": [
    "Converting a String to an Integer:\n",
    "* the int() function to convert a string containing a numeric value to an integer."
   ]
  },
  {
   "cell_type": "code",
   "execution_count": 16,
   "id": "07f88829",
   "metadata": {},
   "outputs": [
    {
     "name": "stdout",
     "output_type": "stream",
     "text": [
      "10\n"
     ]
    }
   ],
   "source": [
    "num_str = \"10\"\n",
    "num_int = int(num_str)\n",
    "print(num_int)"
   ]
  },
  {
   "cell_type": "markdown",
   "id": "dbd56611",
   "metadata": {},
   "source": [
    "Converting a Floating-Point Number to an Integer\n",
    "* int() function will truncate the decimal portion when converting a floating-point number to an integer."
   ]
  },
  {
   "cell_type": "code",
   "execution_count": 17,
   "id": "fd3d411c",
   "metadata": {},
   "outputs": [
    {
     "name": "stdout",
     "output_type": "stream",
     "text": [
      "5\n"
     ]
    }
   ],
   "source": [
    "float_num = 5.55\n",
    "int_num = int(float_num)\n",
    "print(int_num)"
   ]
  },
  {
   "cell_type": "markdown",
   "id": "0642597f",
   "metadata": {},
   "source": [
    "Converting Boolean Values to Integers:\n",
    "* Booleans can be converted to integers, where True becomes 1 and False becomes 0."
   ]
  },
  {
   "cell_type": "code",
   "execution_count": 18,
   "id": "815c6e54",
   "metadata": {},
   "outputs": [
    {
     "name": "stdout",
     "output_type": "stream",
     "text": [
      "1\n"
     ]
    }
   ],
   "source": [
    "bool_value = True     # if false the output is 0\n",
    "int_value = int(bool_value)\n",
    "print(int_value)"
   ]
  },
  {
   "cell_type": "markdown",
   "id": "810a51be",
   "metadata": {},
   "source": [
    "# Floating-point number"
   ]
  },
  {
   "cell_type": "markdown",
   "id": "d62dfee4",
   "metadata": {},
   "source": [
    "Converting an Integer to a Floating-Point Number"
   ]
  },
  {
   "cell_type": "code",
   "execution_count": 19,
   "id": "ca500666",
   "metadata": {},
   "outputs": [
    {
     "name": "stdout",
     "output_type": "stream",
     "text": [
      "50.0\n"
     ]
    }
   ],
   "source": [
    "integer_value = 50\n",
    "float_value = float(integer_value)\n",
    "print(float_value)"
   ]
  },
  {
   "cell_type": "markdown",
   "id": "97c37f6d",
   "metadata": {},
   "source": [
    "Converting a String to a Floating-Point Number :"
   ]
  },
  {
   "cell_type": "code",
   "execution_count": 20,
   "id": "5b895f79",
   "metadata": {},
   "outputs": [
    {
     "name": "stdout",
     "output_type": "stream",
     "text": [
      "3.14\n"
     ]
    }
   ],
   "source": [
    "string_value = \"3.14\"\n",
    "float_value = float(string_value)\n",
    "print(float_value)"
   ]
  },
  {
   "cell_type": "markdown",
   "id": "eae20ea9",
   "metadata": {},
   "source": [
    "# String"
   ]
  },
  {
   "cell_type": "markdown",
   "id": "0281a6ea",
   "metadata": {},
   "source": [
    "String Conversion: str()\n",
    "* The str() function used to convert a value to its string representation."
   ]
  },
  {
   "cell_type": "code",
   "execution_count": 21,
   "id": "9d8aaeeb",
   "metadata": {},
   "outputs": [
    {
     "name": "stdout",
     "output_type": "stream",
     "text": [
      "str_num\n"
     ]
    }
   ],
   "source": [
    "num = 100\n",
    "str_num = str(num)  # Converts integer 100 to string \"100\"\n",
    "print('str_num')"
   ]
  },
  {
   "cell_type": "markdown",
   "id": "cc7dd2a4",
   "metadata": {},
   "source": [
    "String Formatting:\n",
    "* The format() function is used to format and insert values into strings. It converts values to their string representations and inserts them into placeholders in the string."
   ]
  },
  {
   "cell_type": "code",
   "execution_count": 22,
   "id": "b73a3554",
   "metadata": {},
   "outputs": [
    {
     "name": "stdout",
     "output_type": "stream",
     "text": [
      "My name is Hari and I am 25 years old.\n"
     ]
    }
   ],
   "source": [
    "name = \"Hari\"\n",
    "age = 25\n",
    "message = \"My name is {} and I am {} years old.\".format(name, age)\n",
    "print(message)"
   ]
  },
  {
   "cell_type": "markdown",
   "id": "250e521b",
   "metadata": {},
   "source": [
    "String Concatenation:\n",
    "* The + operator can be used to concatenate strings together. When used with strings and other values."
   ]
  },
  {
   "cell_type": "code",
   "execution_count": 23,
   "id": "a17dbd6f",
   "metadata": {},
   "outputs": [
    {
     "name": "stdout",
     "output_type": "stream",
     "text": [
      "The answer is: 50\n"
     ]
    }
   ],
   "source": [
    "num = 50\n",
    "result = \"The answer is: \" + str(num)\n",
    "print(result)"
   ]
  },
  {
   "cell_type": "code",
   "execution_count": null,
   "id": "6c7819bf",
   "metadata": {},
   "outputs": [],
   "source": []
  },
  {
   "cell_type": "markdown",
   "id": "18dad801",
   "metadata": {},
   "source": [
    "10. Why does this expression cause an error? How can you fix it?\n",
    "\n",
    "'I have eaten'+ 99 + 'burritos.'\n",
    "\n",
    "'I have eaten' ,'burritos.' is string and 99 is integer. convert integer to strings."
   ]
  },
  {
   "cell_type": "code",
   "execution_count": 24,
   "id": "c4b24f27",
   "metadata": {},
   "outputs": [
    {
     "name": "stdout",
     "output_type": "stream",
     "text": [
      "I have eaten 99 burritos.\n"
     ]
    }
   ],
   "source": [
    "results = 'I have eaten '+str(99)+ ' burritos.'\n",
    "print(results)"
   ]
  }
 ],
 "metadata": {
  "kernelspec": {
   "display_name": "Python 3 (ipykernel)",
   "language": "python",
   "name": "python3"
  },
  "language_info": {
   "codemirror_mode": {
    "name": "ipython",
    "version": 3
   },
   "file_extension": ".py",
   "mimetype": "text/x-python",
   "name": "python",
   "nbconvert_exporter": "python",
   "pygments_lexer": "ipython3",
   "version": "3.10.9"
  }
 },
 "nbformat": 4,
 "nbformat_minor": 5
}
