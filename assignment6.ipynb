{
 "cells": [
  {
   "cell_type": "markdown",
   "id": "ec872dc3-43fe-45bc-8951-051edc9842d4",
   "metadata": {},
   "source": [
    "1. What are keywords in python? Using the keyword library, print all the python keywords."
   ]
  },
  {
   "cell_type": "markdown",
   "id": "915611f1-92a6-43dc-8ace-59db93ebe26f",
   "metadata": {},
   "source": [
    "Keywords in Python are reserved words that cannot be used as ordinary identifiers. They are used to define the syntax and structure of the Python language."
   ]
  },
  {
   "cell_type": "code",
   "execution_count": 3,
   "id": "904c481c-b0cf-43bb-8425-5bbe16d68fd1",
   "metadata": {},
   "outputs": [
    {
     "name": "stdout",
     "output_type": "stream",
     "text": [
      "['False', 'None', 'True', 'and', 'as', 'assert', 'async', 'await', 'break', 'class', 'continue', 'def', 'del', 'elif', 'else', 'except', 'finally', 'for', 'from', 'global', 'if', 'import', 'in', 'is', 'lambda', 'nonlocal', 'not', 'or', 'pass', 'raise', 'return', 'try', 'while', 'with', 'yield']\n"
     ]
    }
   ],
   "source": [
    "import keyword\n",
    "print(keyword.kwlist)"
   ]
  },
  {
   "cell_type": "markdown",
   "id": "3406cc09-0d10-41d8-af1b-d0610419cd2e",
   "metadata": {},
   "source": [
    "Q.2. What are the rules to create variables in python?"
   ]
  },
  {
   "cell_type": "markdown",
   "id": "4dba01a4-ebcb-4482-af9e-9d7e9601fc02",
   "metadata": {},
   "source": [
    "1] A variable name must start with a letter or the underscore character\n",
    "\n",
    "2] A variable name cannot start with a number\n",
    "\n",
    "3] A variable name can only contain alpha-numeric characters and underscores (A-z, 0-9, and _ )\n",
    "\n",
    "4] Variable names are case-sensitive (car, Car and CAR are three different variables)"
   ]
  },
  {
   "cell_type": "markdown",
   "id": "529957ea-8625-4500-b549-f08b21fd6aa0",
   "metadata": {},
   "source": [
    "Q.3. What are the standards and conventions followed for the nomenclature of variables in python to improve code readability and maintainability?"
   ]
  },
  {
   "cell_type": "markdown",
   "id": "0c888982-5ea1-4de1-bb5b-425b3e6e220d",
   "metadata": {},
   "source": [
    "1] Use descriptive names: Choose meaningful names that reflect the purpose or content of the variable.\n",
    "\n",
    "2] Apply lowercase and underscores: Use lowercase letters for variable names and separate words with underscores (my_dict).\n",
    "\n",
    "3] Avoid built-in names: Steer clear of using Python keywords or names of standard library modules/functions as variable names.\n",
    "\n",
    "4] Maintain consistency: Stick to a consistent naming style throughout your codebase.\n",
    "\n",
    "5] Consider prefixes for clarity: Add prefixes to indicate the type or purpose of the variable when it enhances readability.\n",
    "\n",
    "6] Use singular nouns for objects: Name instances of classes using singular nouns.\n",
    "\n",
    "7] Uppercase for constants: Constants should be written in uppercase letters with underscores between words."
   ]
  },
  {
   "cell_type": "markdown",
   "id": "abf4204f-20e3-473a-a5b1-9bb097327516",
   "metadata": {},
   "source": [
    "Q.4. What will happen if a keyword is used as a variable name?"
   ]
  },
  {
   "cell_type": "markdown",
   "id": "78d0b020-068a-4275-b047-24ee51b8710d",
   "metadata": {},
   "source": [
    "If Keyword is used as a variable name then python interpreter will throws an error"
   ]
  },
  {
   "cell_type": "code",
   "execution_count": 10,
   "id": "548bcea0-b4f6-4eb8-8486-5488b591d526",
   "metadata": {},
   "outputs": [
    {
     "ename": "SyntaxError",
     "evalue": "invalid syntax (1551882446.py, line 1)",
     "output_type": "error",
     "traceback": [
      "\u001b[1;36m  Cell \u001b[1;32mIn[10], line 1\u001b[1;36m\u001b[0m\n\u001b[1;33m    class = 10\u001b[0m\n\u001b[1;37m          ^\u001b[0m\n\u001b[1;31mSyntaxError\u001b[0m\u001b[1;31m:\u001b[0m invalid syntax\n"
     ]
    }
   ],
   "source": [
    "class = 10\n",
    "print(class)"
   ]
  },
  {
   "cell_type": "markdown",
   "id": "e3d77707-87f0-4c03-8b47-a213682e3f41",
   "metadata": {},
   "source": [
    "Q.5. For what purpose def keyword is used?"
   ]
  },
  {
   "cell_type": "markdown",
   "id": "c02310c0-49d0-4e12-a35e-e4b1262e8479",
   "metadata": {},
   "source": [
    "def Keyword is used to define the user defined functions"
   ]
  },
  {
   "cell_type": "code",
   "execution_count": 26,
   "id": "35749ef9-eec5-4d80-b7b3-c3e20d3d0089",
   "metadata": {},
   "outputs": [
    {
     "name": "stdout",
     "output_type": "stream",
     "text": [
      "10\n"
     ]
    }
   ],
   "source": [
    "#example\n",
    "def add(a,b):\n",
    "    return a + b\n",
    "\n",
    "print(add(4, 6))\n"
   ]
  },
  {
   "cell_type": "markdown",
   "id": "e2813a7d-e7c6-4cc2-b46d-d9c8c4d32479",
   "metadata": {},
   "source": [
    "Q.6. What is the operation of this special character ‘\\’?"
   ]
  },
  {
   "cell_type": "markdown",
   "id": "8b0c4db4-106a-4af8-9d0e-dc0ab1fe6959",
   "metadata": {},
   "source": [
    "Operation of ' \\ ' this special character is to extend a statement over multiple lines."
   ]
  },
  {
   "cell_type": "code",
   "execution_count": 30,
   "id": "f7e96685-1507-4098-9a90-7a781ade6c87",
   "metadata": {},
   "outputs": [
    {
     "name": "stdout",
     "output_type": "stream",
     "text": [
      "22\n"
     ]
    }
   ],
   "source": [
    "#example\n",
    "\n",
    "sum = 1 + 2 + 3 + 4 \\\n",
    "              + 5 + 7\n",
    "print(sum)"
   ]
  },
  {
   "cell_type": "markdown",
   "id": "eaa4c3a6-2206-444a-9281-bca5a35eb79c",
   "metadata": {},
   "source": [
    "Q.7. Give an example of the following conditions:\n",
    "    (i) Homogeneous list\n",
    "   (ii) Heterogeneous set\n",
    "   (iii) Homogeneous tuple"
   ]
  },
  {
   "cell_type": "code",
   "execution_count": 33,
   "id": "99ab2650-d52a-4c14-80bc-cc012fae616f",
   "metadata": {},
   "outputs": [
    {
     "name": "stdout",
     "output_type": "stream",
     "text": [
      "['Nagpur', 'Pune', 'Mumbai', 'Dhule']\n"
     ]
    }
   ],
   "source": [
    "# HOMOGENEOUS list\n",
    "\n",
    "city = [\"Nagpur\", \"Pune\", \"Mumbai\", \"Dhule\"]\n",
    "print(city)"
   ]
  },
  {
   "cell_type": "code",
   "execution_count": 35,
   "id": "be599504-1b28-4384-9444-25dea2d9bd6f",
   "metadata": {},
   "outputs": [
    {
     "name": "stdout",
     "output_type": "stream",
     "text": [
      "['sakshi', 3.14, 94.6, [5, 6, 7], {'name': 'Kiara', 'percentage': 84}]\n"
     ]
    }
   ],
   "source": [
    "# HETEROGENEOUS Set\n",
    "\n",
    "set = [\"sakshi\", 3.14, 94.60,  [5, 6, 7], {\"name\": \"Kiara\" , \"percentage\": 84}]\n",
    "print(set)"
   ]
  },
  {
   "cell_type": "code",
   "execution_count": 37,
   "id": "1f624293-49bf-44e3-83e2-8f2e5fa72184",
   "metadata": {},
   "outputs": [
    {
     "name": "stdout",
     "output_type": "stream",
     "text": [
      "(1, 2, 3, 4)\n"
     ]
    }
   ],
   "source": [
    "# HOMOGENEOUS tuple\n",
    "\n",
    "tuple = (1, 2, 3, 4)\n",
    "print(tuple)"
   ]
  },
  {
   "cell_type": "markdown",
   "id": "51fce661-d524-4376-8ee4-5b11cedece5b",
   "metadata": {},
   "source": [
    "Q.8. Explain the mutable and immutable data types with proper explanation & examples."
   ]
  },
  {
   "cell_type": "markdown",
   "id": "1eeb6fcf-37a3-47b2-af26-c817631b19ad",
   "metadata": {},
   "source": [
    "Anything is said to be mutable when anything can be modified or changed. The term \"mutable\" in Python refers to an object's capacity to modify its values. These are frequently the things that hold a data collection Lists Dictionaries Sets User-Defined Classes.\n",
    "\n",
    "Immutable refers to a state in which no change can occur over time. A Python object is referred to as immutable if we cannot change its value over time. The value of these Python objects is fixed once they are made. Numbers (Integer, Float, Complex, Decimal, Rational & Booleans) Tuples Strings Frozen Sets."
   ]
  },
  {
   "cell_type": "code",
   "execution_count": 41,
   "id": "00fbc716-ad34-496f-91f0-61af50b489b8",
   "metadata": {},
   "outputs": [
    {
     "name": "stdout",
     "output_type": "stream",
     "text": [
      "The original list:  ['mango', 'apple', 'banana', 'orange']\n",
      "The modified list:  ['mango', 'apple', 'banana', 'strawberry']\n",
      "-------------------------------------------------------------------------------------\n",
      "The original dictionary:  {'name': 'Mira', 'email': 'abc@gmail.com', 'college': 'VJIT'}\n",
      "The modified dictionary:  {'name': 'Mira', 'email': 'xyz@gmail.com', 'college': 'VJIT'}\n"
     ]
    }
   ],
   "source": [
    "# Mutable Example\n",
    "\n",
    "# 1] List\n",
    "\n",
    "# Creating a list  \n",
    "\n",
    "list1 = ['mango' , 'apple' , 'banana' , 'orange']  \n",
    "print(\"The original list: \", list1)  \n",
    "  \n",
    "# Changing the value at index 3 of the list  \n",
    "\n",
    "list1[3]='strawberry'  \n",
    "print(\"The modified list: \", list1)  \n",
    "\n",
    "\n",
    "# 2] Dictionary\n",
    "\n",
    "print('-'*85)\n",
    "# Creating a dictionary  \n",
    "\n",
    "dict = {\"name\" : \"Mira\" , \"email\" : \"abc@gmail.com\" , \"college\" : \"VJIT\"}  \n",
    "print(\"The original dictionary: \", dict)  \n",
    "  \n",
    "# Changing the value of one of the keys of the dictionary \n",
    "\n",
    "dict['email']= 'xyz@gmail.com'  \n",
    "print(\"The modified dictionary: \", dict)  "
   ]
  },
  {
   "cell_type": "code",
   "execution_count": 43,
   "id": "05bd9f37-fc1d-4a3e-a063-2cfc06b8bea0",
   "metadata": {},
   "outputs": [
    {
     "name": "stdout",
     "output_type": "stream",
     "text": [
      "The memory address of int before updating:  140713497865048\n",
      "The memory address of int after updating:  140713497865720\n",
      "-----------------------------------------------------------\n",
      "The memory address of float before updating:  2092136892400\n",
      "The memory address of float after updating:  2092159380208\n"
     ]
    }
   ],
   "source": [
    "# Immutable Example\n",
    "\n",
    "# INT\n",
    "\n",
    "int = 14\n",
    "print('The memory address of int before updating: ', id(int))  \n",
    "  \n",
    "# Modifying an int \n",
    "\n",
    "int = 35  \n",
    "print('The memory address of int after updating: ', id(int))  \n",
    "\n",
    "print(\"-\"*59)\n",
    "\n",
    "#FLoat\n",
    "\n",
    "float = (14.5)  \n",
    "print('The memory address of float before updating: ', id(float))  \n",
    "  \n",
    "# Modifying the float \n",
    "\n",
    "float = (15.5)  \n",
    "print('The memory address of float after updating: ', id(float))  \n",
    "\n",
    "\n",
    "#Changed Memory Address Means these objects are immutable"
   ]
  },
  {
   "cell_type": "markdown",
   "id": "5e3ece20-8e6e-46eb-ad5f-242e196d4865",
   "metadata": {},
   "source": [
    "Q.9. Write a code to create the given structure using only for loop."
   ]
  },
  {
   "cell_type": "raw",
   "id": "7063c621-e5e9-4ba3-993b-239e684be32f",
   "metadata": {},
   "source": [
    "    *\n",
    "   ***\n",
    "  *****\n",
    " *******\n",
    "*********"
   ]
  },
  {
   "cell_type": "code",
   "execution_count": 46,
   "id": "73d743ee-b9ce-428b-8236-e7685408297d",
   "metadata": {},
   "outputs": [
    {
     "name": "stdout",
     "output_type": "stream",
     "text": [
      "        * \n",
      "\n",
      "      * * * \n",
      "\n",
      "    * * * * * \n",
      "\n",
      "  * * * * * * * \n",
      "\n",
      "* * * * * * * * * \n",
      "\n"
     ]
    }
   ],
   "source": [
    "n = 5\n",
    "for i in range(n):\n",
    "    for j in range(i, n-1):\n",
    "        print(\" \"*len('*'), end = \" \")\n",
    "    for j in range(i + 1):\n",
    "        print(\"*\", end = \" \")\n",
    "    for j in range(i):\n",
    "        print(\"*\", end = \" \")\n",
    "    print(\"\\n\")"
   ]
  },
  {
   "cell_type": "markdown",
   "id": "26df99fd-f086-46d5-b792-b611e68c608a",
   "metadata": {},
   "source": [
    "Q.10. Write a code to create the given structure using while loop."
   ]
  },
  {
   "cell_type": "raw",
   "id": "a67f132a-3553-467f-9913-ab6195643431",
   "metadata": {},
   "source": [
    "|||||||||\n",
    " |||||||\n",
    "  |||||\n",
    "   |||\n",
    "    |"
   ]
  },
  {
   "cell_type": "code",
   "execution_count": 49,
   "id": "586db05b-1509-4e82-a7e1-845f8a2bd73a",
   "metadata": {},
   "outputs": [
    {
     "name": "stdout",
     "output_type": "stream",
     "text": [
      "|||||||||\n",
      " |||||||\n",
      "  |||||\n",
      "   |||\n",
      "    |\n"
     ]
    }
   ],
   "source": [
    "row = 5\n",
    "\n",
    "while row > 0:\n",
    "    print(\" \" * (5 - row), end = \"\")\n",
    "    print(\"|\" * (2 * row - 1))\n",
    "    row -= 1"
   ]
  }
 ],
 "metadata": {
  "kernelspec": {
   "display_name": "Python 3 (ipykernel)",
   "language": "python",
   "name": "python3"
  },
  "language_info": {
   "codemirror_mode": {
    "name": "ipython",
    "version": 3
   },
   "file_extension": ".py",
   "mimetype": "text/x-python",
   "name": "python",
   "nbconvert_exporter": "python",
   "pygments_lexer": "ipython3",
   "version": "3.12.7"
  }
 },
 "nbformat": 4,
 "nbformat_minor": 5
}
